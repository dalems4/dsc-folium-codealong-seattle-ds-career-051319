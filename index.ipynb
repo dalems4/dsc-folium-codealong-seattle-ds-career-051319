{
 "cells": [
  {
   "cell_type": "markdown",
   "metadata": {},
   "source": [
    "# Folium - Codealong\n",
    "\n",
    "## Introduction \n",
    "\n",
    "In this codealong, we'll take a look at how to create an interactive map using the Folium package. From there, we'll return to APIs in the final lab for the day where you'll make an interactive map from your requests to the API!\n",
    "\n",
    "## Objectives\n",
    "\n",
    "You will be able to: \n",
    "* Create maps with Folium"
   ]
  },
  {
   "cell_type": "markdown",
   "metadata": {},
   "source": [
    "## Creating a Basemap\n",
    "\n",
    "Here we'll take a look at creating a basemap over the London region!"
   ]
  },
  {
   "cell_type": "code",
   "execution_count": 1,
   "metadata": {
    "scrolled": false
   },
   "outputs": [
    {
     "data": {
      "text/html": [
       "<div style=\"width:100%;\"><div style=\"position:relative;width:100%;height:0;padding-bottom:60%;\"><iframe src=\"data:text/html;charset=utf-8;base64,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\" style=\"position:absolute;width:100%;height:100%;left:0;top:0;border:none !important;\" allowfullscreen webkitallowfullscreen mozallowfullscreen></iframe></div></div>"
      ],
      "text/plain": [
       "<folium.folium.Map at 0x7fb62c2b2c18>"
      ]
     },
     "execution_count": 1,
     "metadata": {},
     "output_type": "execute_result"
    }
   ],
   "source": [
    "import folium\n",
    "\n",
    "lat = 51.51\n",
    "long = -0.14\n",
    "\n",
    "#Create a map of the area\n",
    "base_map = folium.Map([lat, long], zoom_start=13)\n",
    "base_map"
   ]
  },
  {
   "cell_type": "markdown",
   "metadata": {},
   "source": [
    "## Adding Markers to the Map\n",
    "\n",
    "Great! Now let's take a look at adding little markers to our map!\n",
    "\n",
    "**Note:** you may have to zoom out to see all of the markers!"
   ]
  },
  {
   "cell_type": "code",
   "execution_count": 2,
   "metadata": {},
   "outputs": [
    {
     "data": {
      "text/html": [
       "<div style=\"width:100%;\"><div style=\"position:relative;width:100%;height:0;padding-bottom:60%;\"><iframe src=\"data:text/html;charset=utf-8;base64,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\" style=\"position:absolute;width:100%;height:100%;left:0;top:0;border:none !important;\" allowfullscreen webkitallowfullscreen mozallowfullscreen></iframe></div></div>"
      ],
      "text/plain": [
       "<folium.folium.Map at 0x7fb62c2b2c18>"
      ]
     },
     "execution_count": 2,
     "metadata": {},
     "output_type": "execute_result"
    }
   ],
   "source": [
    "import numpy as np\n",
    "\n",
    "#Generate some random locations to add to our map\n",
    "x = [lat + np.random.uniform(-.1,.1) for i in range(20)]\n",
    "y = [long + np.random.uniform(-.1,.1) for i in range(20)]\n",
    "points = list(zip(x, y))\n",
    "for p in points:\n",
    "    lat = p[0]\n",
    "    long = p[1]\n",
    "    marker = folium.Marker(location=[lat, long])\n",
    "    marker.add_to(base_map)\n",
    "base_map"
   ]
  },
  {
   "cell_type": "markdown",
   "metadata": {},
   "source": [
    "## Adding Pop-up Boxes to Our Markers\n",
    "\n",
    "Often we may wish to not only place markers on the map, but to create interactive pop-ups which display information to that location. To do this, we can add a popup to our markers when adding them to the map! "
   ]
  },
  {
   "cell_type": "code",
   "execution_count": null,
   "metadata": {},
   "outputs": [],
   "source": [
    "for p in points:\n",
    "    lat = p[0]\n",
    "    long = p[1]\n",
    "    popup_text = \"Latitude: {}, Longitude: {}\".format(lat,long)\n",
    "    popup = folium.Popup(popup_text, parse_html=True)\n",
    "    marker = folium.Marker(location=[lat, long], popup=popup)\n",
    "    marker.add_to(base_map)\n",
    "base_map"
   ]
  },
  {
   "cell_type": "markdown",
   "metadata": {},
   "source": [
    "Now, if you click on the map markers, you should see a little information box pop up!\n",
    "\n",
    "## Summary \n",
    "\n",
    "In this codealong, we learned how to use Folium to create some cool interactive maps with only a few lines of python code! In the next lab, you'll synthesize your skills for the day together and create an interactive visualization map for data you retrieve from the Yelp API!"
   ]
  }
 ],
 "metadata": {
  "kernelspec": {
   "display_name": "Python 3",
   "language": "python",
   "name": "python3"
  },
  "language_info": {
   "codemirror_mode": {
    "name": "ipython",
    "version": 3
   },
   "file_extension": ".py",
   "mimetype": "text/x-python",
   "name": "python",
   "nbconvert_exporter": "python",
   "pygments_lexer": "ipython3",
   "version": "3.6.6"
  }
 },
 "nbformat": 4,
 "nbformat_minor": 2
}
